{
 "cells": [
  {
   "cell_type": "code",
   "execution_count": 38,
   "metadata": {},
   "outputs": [
    {
     "data": {
      "text/html": [
       "<pre style=\"white-space:pre;overflow-x:auto;line-height:normal;font-family:Menlo,'DejaVu Sans Mono',consolas,'Courier New',monospace\"><span style=\"color: #8c1eff; text-decoration-color: #8c1eff; font-weight: bold\"> __      __             ___                                                       __         </span>\n",
       "<span style=\"color: #8c1eff; text-decoration-color: #8c1eff; font-weight: bold\">__       __                 </span>\n",
       "<span style=\"color: #800080; text-decoration-color: #800080; font-weight: bold\">/</span><span style=\"color: #8c1eff; text-decoration-color: #8c1eff; font-weight: bold\">\\ \\  __/\\ \\           </span><span style=\"color: #800080; text-decoration-color: #800080; font-weight: bold\">/</span><span style=\"color: #8c1eff; text-decoration-color: #8c1eff; font-weight: bold\">\\_ \\                                                     </span><span style=\"color: #800080; text-decoration-color: #800080; font-weight: bold\">/</span><span style=\"color: #8c1eff; text-decoration-color: #8c1eff; font-weight: bold\">\\ \\__      </span>\n",
       "<span style=\"color: #800080; text-decoration-color: #800080; font-weight: bold\">/</span><span style=\"color: #8c1eff; text-decoration-color: #8c1eff; font-weight: bold\">\\ \\__   </span><span style=\"color: #800080; text-decoration-color: #800080; font-weight: bold\">/</span><span style=\"color: #8c1eff; text-decoration-color: #8c1eff; font-weight: bold\">\\ \\                </span>\n",
       "<span style=\"color: #8c1eff; text-decoration-color: #8c1eff; font-weight: bold\">\\ \\ \\</span><span style=\"color: #800080; text-decoration-color: #800080; font-weight: bold\">/</span><span style=\"color: #8c1eff; text-decoration-color: #8c1eff; font-weight: bold\">\\ \\ \\ \\     __   \\</span><span style=\"color: #800080; text-decoration-color: #800080; font-weight: bold\">//</span><span style=\"color: #8c1eff; text-decoration-color: #8c1eff; font-weight: bold\">\\ \\      ___     ___     ___ ___       __              \\ \\ ,_\\    </span>\n",
       "<span style=\"color: #8c1eff; text-decoration-color: #8c1eff; font-weight: bold\">___              \\ \\ ,_\\  \\ \\ \\___       __   </span>\n",
       "<span style=\"color: #8c1eff; text-decoration-color: #8c1eff; font-weight: bold\"> \\ \\ \\ \\ \\ \\ \\  </span><span style=\"color: #800080; text-decoration-color: #800080; font-weight: bold\">/</span><span style=\"color: #008000; text-decoration-color: #008000\">'__`\\   \\ \\ \\    /'</span><span style=\"color: #8c1eff; text-decoration-color: #8c1eff; font-weight: bold\">___\\  </span><span style=\"color: #800080; text-decoration-color: #800080; font-weight: bold\">/</span><span style=\"color: #8c1eff; text-decoration-color: #8c1eff; font-weight: bold\"> __`\\ </span><span style=\"color: #800080; text-decoration-color: #800080; font-weight: bold\">/</span><span style=\"color: #008000; text-decoration-color: #008000\">' __` __`\\   /'</span><span style=\"color: #8c1eff; text-decoration-color: #8c1eff; font-weight: bold\">__`\\             \\ \\ \\</span><span style=\"color: #800080; text-decoration-color: #800080; font-weight: bold\">/</span><span style=\"color: #8c1eff; text-decoration-color: #8c1eff; font-weight: bold\">   </span><span style=\"color: #800080; text-decoration-color: #800080; font-weight: bold\">/</span><span style=\"color: #8c1eff; text-decoration-color: #8c1eff; font-weight: bold\"> </span>\n",
       "<span style=\"color: #8c1eff; text-decoration-color: #8c1eff; font-weight: bold\">__`\\             \\ \\ \\</span><span style=\"color: #800080; text-decoration-color: #800080; font-weight: bold\">/</span><span style=\"color: #8c1eff; text-decoration-color: #8c1eff; font-weight: bold\">   \\ \\  _ `\\   </span><span style=\"color: #800080; text-decoration-color: #800080; font-weight: bold\">/</span><span style=\"color: #8c1eff; text-decoration-color: #8c1eff; font-weight: bold\">'__`\\ </span>\n",
       "<span style=\"color: #8c1eff; text-decoration-color: #8c1eff; font-weight: bold\">  \\ \\ \\_/ \\_\\ \\</span><span style=\"color: #800080; text-decoration-color: #800080; font-weight: bold\">/</span><span style=\"color: #8c1eff; text-decoration-color: #8c1eff; font-weight: bold\">\\  __/    \\_\\ \\_ </span><span style=\"color: #800080; text-decoration-color: #800080; font-weight: bold\">/</span><span style=\"color: #8c1eff; text-decoration-color: #8c1eff; font-weight: bold\">\\ \\__/ </span><span style=\"color: #800080; text-decoration-color: #800080; font-weight: bold\">/</span><span style=\"color: #8c1eff; text-decoration-color: #8c1eff; font-weight: bold\">\\ \\L\\ \\</span><span style=\"color: #800080; text-decoration-color: #800080; font-weight: bold\">/</span><span style=\"color: #8c1eff; text-decoration-color: #8c1eff; font-weight: bold\">\\ \\</span><span style=\"color: #800080; text-decoration-color: #800080; font-weight: bold\">/</span><span style=\"color: #8c1eff; text-decoration-color: #8c1eff; font-weight: bold\">\\ \\</span><span style=\"color: #800080; text-decoration-color: #800080; font-weight: bold\">/</span><span style=\"color: #8c1eff; text-decoration-color: #8c1eff; font-weight: bold\">\\ \\ </span><span style=\"color: #800080; text-decoration-color: #800080; font-weight: bold\">/</span><span style=\"color: #8c1eff; text-decoration-color: #8c1eff; font-weight: bold\">\\  __/              \\ \\ \\_ </span><span style=\"color: #800080; text-decoration-color: #800080; font-weight: bold\">/</span><span style=\"color: #8c1eff; text-decoration-color: #8c1eff; font-weight: bold\">\\ </span>\n",
       "<span style=\"color: #8c1eff; text-decoration-color: #8c1eff; font-weight: bold\">\\L\\ \\             \\ \\ \\_   \\ \\ \\ \\ \\ </span><span style=\"color: #800080; text-decoration-color: #800080; font-weight: bold\">/</span><span style=\"color: #8c1eff; text-decoration-color: #8c1eff; font-weight: bold\">\\  __/ </span>\n",
       "<span style=\"color: #8c1eff; text-decoration-color: #8c1eff; font-weight: bold\">   \\ `\\___x___/\\ \\____\\   </span><span style=\"color: #800080; text-decoration-color: #800080; font-weight: bold\">/</span><span style=\"color: #8c1eff; text-decoration-color: #8c1eff; font-weight: bold\">\\____\\\\ \\____\\\\ \\____/\\ \\_\\ \\_\\ \\_\\\\ \\____\\              \\ \\__\\\\ </span>\n",
       "<span style=\"color: #8c1eff; text-decoration-color: #8c1eff; font-weight: bold\">\\____/              \\ \\__\\   \\ \\_\\ \\_\\\\ \\____\\</span>\n",
       "<span style=\"color: #8c1eff; text-decoration-color: #8c1eff; font-weight: bold\">    '\\</span><span style=\"color: #800080; text-decoration-color: #800080; font-weight: bold\">/__//__/</span><span style=\"color: #8c1eff; text-decoration-color: #8c1eff; font-weight: bold\">  \\</span><span style=\"color: #800080; text-decoration-color: #800080; font-weight: bold\">/____/</span><span style=\"color: #8c1eff; text-decoration-color: #8c1eff; font-weight: bold\">   \\</span><span style=\"color: #800080; text-decoration-color: #800080; font-weight: bold\">/____/</span><span style=\"color: #8c1eff; text-decoration-color: #8c1eff; font-weight: bold\"> \\</span><span style=\"color: #800080; text-decoration-color: #800080; font-weight: bold\">/____/</span><span style=\"color: #8c1eff; text-decoration-color: #8c1eff; font-weight: bold\"> \\</span><span style=\"color: #800080; text-decoration-color: #800080; font-weight: bold\">/___/</span><span style=\"color: #8c1eff; text-decoration-color: #8c1eff; font-weight: bold\">  \\</span><span style=\"color: #800080; text-decoration-color: #800080; font-weight: bold\">/_/</span><span style=\"color: #8c1eff; text-decoration-color: #8c1eff; font-weight: bold\">\\</span><span style=\"color: #800080; text-decoration-color: #800080; font-weight: bold\">/_/</span><span style=\"color: #8c1eff; text-decoration-color: #8c1eff; font-weight: bold\">\\</span><span style=\"color: #800080; text-decoration-color: #800080; font-weight: bold\">/_/</span><span style=\"color: #8c1eff; text-decoration-color: #8c1eff; font-weight: bold\"> \\</span><span style=\"color: #800080; text-decoration-color: #800080; font-weight: bold\">/____/</span><span style=\"color: #8c1eff; text-decoration-color: #8c1eff; font-weight: bold\">               \\</span><span style=\"color: #800080; text-decoration-color: #800080; font-weight: bold\">/__/</span><span style=\"color: #8c1eff; text-decoration-color: #8c1eff; font-weight: bold\"> </span>\n",
       "<span style=\"color: #8c1eff; text-decoration-color: #8c1eff; font-weight: bold\">\\</span><span style=\"color: #800080; text-decoration-color: #800080; font-weight: bold\">/___/</span><span style=\"color: #8c1eff; text-decoration-color: #8c1eff; font-weight: bold\">                \\</span><span style=\"color: #800080; text-decoration-color: #800080; font-weight: bold\">/__/</span><span style=\"color: #8c1eff; text-decoration-color: #8c1eff; font-weight: bold\">    \\</span><span style=\"color: #800080; text-decoration-color: #800080; font-weight: bold\">/_/</span><span style=\"color: #8c1eff; text-decoration-color: #8c1eff; font-weight: bold\">\\</span><span style=\"color: #800080; text-decoration-color: #800080; font-weight: bold\">/_/</span><span style=\"color: #8c1eff; text-decoration-color: #8c1eff; font-weight: bold\"> \\</span><span style=\"color: #800080; text-decoration-color: #800080; font-weight: bold\">/____/</span>\n",
       "<span style=\"color: #8c1eff; text-decoration-color: #8c1eff; font-weight: bold\">                                                                                             </span>\n",
       "<span style=\"color: #8c1eff; text-decoration-color: #8c1eff; font-weight: bold\">                                                                                             </span>\n",
       "\n",
       "</pre>\n"
      ],
      "text/plain": [
       "\u001b[1;38;2;140;30;255m __      __             ___                                                       __         \u001b[0m\n",
       "\u001b[1;38;2;140;30;255m__       __                 \u001b[0m\n",
       "\u001b[1;35m/\u001b[0m\u001b[1;38;2;140;30;255m\\ \\  __/\\ \\           \u001b[0m\u001b[1;35m/\u001b[0m\u001b[1;38;2;140;30;255m\\_ \\                                                     \u001b[0m\u001b[1;35m/\u001b[0m\u001b[1;38;2;140;30;255m\\ \\__      \u001b[0m\n",
       "\u001b[1;35m/\u001b[0m\u001b[1;38;2;140;30;255m\\ \\__   \u001b[0m\u001b[1;35m/\u001b[0m\u001b[1;38;2;140;30;255m\\ \\                \u001b[0m\n",
       "\u001b[1;38;2;140;30;255m\\ \\ \\\u001b[0m\u001b[1;35m/\u001b[0m\u001b[1;38;2;140;30;255m\\ \\ \\ \\     __   \\\u001b[0m\u001b[1;35m/\u001b[0m\u001b[1;35m/\u001b[0m\u001b[1;38;2;140;30;255m\\ \\      ___     ___     ___ ___       __              \\ \\ ,_\\    \u001b[0m\n",
       "\u001b[1;38;2;140;30;255m___              \\ \\ ,_\\  \\ \\ \\___       __   \u001b[0m\n",
       "\u001b[1;38;2;140;30;255m \\ \\ \\ \\ \\ \\ \\  \u001b[0m\u001b[1;35m/\u001b[0m\u001b[32m'__`\\   \\ \\ \\    /'\u001b[0m\u001b[1;38;2;140;30;255m___\\  \u001b[0m\u001b[1;35m/\u001b[0m\u001b[1;38;2;140;30;255m __`\\ \u001b[0m\u001b[1;35m/\u001b[0m\u001b[32m' __` __`\\   /'\u001b[0m\u001b[1;38;2;140;30;255m__`\\             \\ \\ \\\u001b[0m\u001b[1;35m/\u001b[0m\u001b[1;38;2;140;30;255m   \u001b[0m\u001b[1;35m/\u001b[0m\u001b[1;38;2;140;30;255m \u001b[0m\n",
       "\u001b[1;38;2;140;30;255m__`\\             \\ \\ \\\u001b[0m\u001b[1;35m/\u001b[0m\u001b[1;38;2;140;30;255m   \\ \\  _ `\\   \u001b[0m\u001b[1;35m/\u001b[0m\u001b[1;38;2;140;30;255m'__`\\ \u001b[0m\n",
       "\u001b[1;38;2;140;30;255m  \\ \\ \\_/ \\_\\ \\\u001b[0m\u001b[1;35m/\u001b[0m\u001b[1;38;2;140;30;255m\\  __/    \\_\\ \\_ \u001b[0m\u001b[1;35m/\u001b[0m\u001b[1;38;2;140;30;255m\\ \\__/ \u001b[0m\u001b[1;35m/\u001b[0m\u001b[1;38;2;140;30;255m\\ \\L\\ \\\u001b[0m\u001b[1;35m/\u001b[0m\u001b[1;38;2;140;30;255m\\ \\\u001b[0m\u001b[1;35m/\u001b[0m\u001b[1;38;2;140;30;255m\\ \\\u001b[0m\u001b[1;35m/\u001b[0m\u001b[1;38;2;140;30;255m\\ \\ \u001b[0m\u001b[1;35m/\u001b[0m\u001b[1;38;2;140;30;255m\\  __/              \\ \\ \\_ \u001b[0m\u001b[1;35m/\u001b[0m\u001b[1;38;2;140;30;255m\\ \u001b[0m\n",
       "\u001b[1;38;2;140;30;255m\\L\\ \\             \\ \\ \\_   \\ \\ \\ \\ \\ \u001b[0m\u001b[1;35m/\u001b[0m\u001b[1;38;2;140;30;255m\\  __/ \u001b[0m\n",
       "\u001b[1;38;2;140;30;255m   \\ `\\___x___/\\ \\____\\   \u001b[0m\u001b[1;35m/\u001b[0m\u001b[1;38;2;140;30;255m\\____\\\\ \\____\\\\ \\____/\\ \\_\\ \\_\\ \\_\\\\ \\____\\              \\ \\__\\\\ \u001b[0m\n",
       "\u001b[1;38;2;140;30;255m\\____/              \\ \\__\\   \\ \\_\\ \\_\\\\ \\____\\\u001b[0m\n",
       "\u001b[1;38;2;140;30;255m    '\\\u001b[0m\u001b[1;35m/__/\u001b[0m\u001b[1;35m/__/\u001b[0m\u001b[1;38;2;140;30;255m  \\\u001b[0m\u001b[1;35m/____/\u001b[0m\u001b[1;38;2;140;30;255m   \\\u001b[0m\u001b[1;35m/____/\u001b[0m\u001b[1;38;2;140;30;255m \\\u001b[0m\u001b[1;35m/____/\u001b[0m\u001b[1;38;2;140;30;255m \\\u001b[0m\u001b[1;35m/___/\u001b[0m\u001b[1;38;2;140;30;255m  \\\u001b[0m\u001b[1;35m/_/\u001b[0m\u001b[1;38;2;140;30;255m\\\u001b[0m\u001b[1;35m/_/\u001b[0m\u001b[1;38;2;140;30;255m\\\u001b[0m\u001b[1;35m/_/\u001b[0m\u001b[1;38;2;140;30;255m \\\u001b[0m\u001b[1;35m/____/\u001b[0m\u001b[1;38;2;140;30;255m               \\\u001b[0m\u001b[1;35m/__/\u001b[0m\u001b[1;38;2;140;30;255m \u001b[0m\n",
       "\u001b[1;38;2;140;30;255m\\\u001b[0m\u001b[1;35m/___/\u001b[0m\u001b[1;38;2;140;30;255m                \\\u001b[0m\u001b[1;35m/__/\u001b[0m\u001b[1;38;2;140;30;255m    \\\u001b[0m\u001b[1;35m/_/\u001b[0m\u001b[1;38;2;140;30;255m\\\u001b[0m\u001b[1;35m/_/\u001b[0m\u001b[1;38;2;140;30;255m \\\u001b[0m\u001b[1;35m/____/\u001b[0m\n",
       "\u001b[1;38;2;140;30;255m                                                                                             \u001b[0m\n",
       "\u001b[1;38;2;140;30;255m                                                                                             \u001b[0m\n",
       "\n"
      ]
     },
     "metadata": {},
     "output_type": "display_data"
    },
    {
     "data": {
      "text/html": [
       "<pre style=\"white-space:pre;overflow-x:auto;line-height:normal;font-family:Menlo,'DejaVu Sans Mono',consolas,'Courier New',monospace\"><span style=\"color: #8c1eff; text-decoration-color: #8c1eff; font-weight: bold\"> ____                                         ____                                 </span>\n",
       "<span style=\"color: #800080; text-decoration-color: #800080; font-weight: bold\">/</span><span style=\"color: #8c1eff; text-decoration-color: #8c1eff; font-weight: bold\">\\  _`\\   __                                 </span><span style=\"color: #800080; text-decoration-color: #800080; font-weight: bold\">/</span><span style=\"color: #8c1eff; text-decoration-color: #8c1eff; font-weight: bold\">\\  _`\\                               </span>\n",
       "<span style=\"color: #8c1eff; text-decoration-color: #8c1eff; font-weight: bold\">\\ \\ \\L\\_\\</span><span style=\"color: #800080; text-decoration-color: #800080; font-weight: bold\">/</span><span style=\"color: #8c1eff; text-decoration-color: #8c1eff; font-weight: bold\">\\_\\    ____     ____               \\ \\ \\L\\ \\   __  __   ____     ____    </span>\n",
       "<span style=\"color: #8c1eff; text-decoration-color: #8c1eff; font-weight: bold\"> \\ \\  _\\</span><span style=\"color: #800080; text-decoration-color: #800080; font-weight: bold\">/</span><span style=\"color: #8c1eff; text-decoration-color: #8c1eff; font-weight: bold\">\\</span><span style=\"color: #800080; text-decoration-color: #800080; font-weight: bold\">/</span><span style=\"color: #8c1eff; text-decoration-color: #8c1eff; font-weight: bold\">\\ \\  </span><span style=\"color: #800080; text-decoration-color: #800080; font-weight: bold\">/</span><span style=\"color: #8c1eff; text-decoration-color: #8c1eff; font-weight: bold\">\\_ ,`\\  </span><span style=\"color: #800080; text-decoration-color: #800080; font-weight: bold\">/</span><span style=\"color: #8c1eff; text-decoration-color: #8c1eff; font-weight: bold\">\\_ ,`\\              \\ \\  _ &lt;' </span><span style=\"color: #800080; text-decoration-color: #800080; font-weight: bold\">/</span><span style=\"color: #8c1eff; text-decoration-color: #8c1eff; font-weight: bold\">\\ \\</span><span style=\"color: #800080; text-decoration-color: #800080; font-weight: bold\">/</span><span style=\"color: #8c1eff; text-decoration-color: #8c1eff; font-weight: bold\">\\ \\ </span><span style=\"color: #800080; text-decoration-color: #800080; font-weight: bold\">/</span><span style=\"color: #8c1eff; text-decoration-color: #8c1eff; font-weight: bold\">\\_ ,`\\  </span><span style=\"color: #800080; text-decoration-color: #800080; font-weight: bold\">/</span><span style=\"color: #8c1eff; text-decoration-color: #8c1eff; font-weight: bold\">\\_ ,`\\  </span>\n",
       "<span style=\"color: #8c1eff; text-decoration-color: #8c1eff; font-weight: bold\">  \\ \\ \\</span><span style=\"color: #800080; text-decoration-color: #800080; font-weight: bold\">/</span><span style=\"color: #8c1eff; text-decoration-color: #8c1eff; font-weight: bold\">  \\ \\ \\ \\</span><span style=\"color: #800080; text-decoration-color: #800080; font-weight: bold\">/_/</span><span style=\"color: #8c1eff; text-decoration-color: #8c1eff; font-weight: bold\">  </span><span style=\"color: #800080; text-decoration-color: #800080; font-weight: bold\">/</span><span style=\"color: #ff00ff; text-decoration-color: #ff00ff; font-weight: bold\">_</span><span style=\"color: #8c1eff; text-decoration-color: #8c1eff; font-weight: bold\"> \\</span><span style=\"color: #800080; text-decoration-color: #800080; font-weight: bold\">/_/</span><span style=\"color: #8c1eff; text-decoration-color: #8c1eff; font-weight: bold\">  </span><span style=\"color: #800080; text-decoration-color: #800080; font-weight: bold\">/</span><span style=\"color: #ff00ff; text-decoration-color: #ff00ff; font-weight: bold\">_</span><span style=\"color: #8c1eff; text-decoration-color: #8c1eff; font-weight: bold\">              \\ \\ \\L\\ \\\\ \\ \\_\\ \\\\</span><span style=\"color: #800080; text-decoration-color: #800080; font-weight: bold\">/_/</span><span style=\"color: #8c1eff; text-decoration-color: #8c1eff; font-weight: bold\">  </span><span style=\"color: #800080; text-decoration-color: #800080; font-weight: bold\">/</span><span style=\"color: #ff00ff; text-decoration-color: #ff00ff; font-weight: bold\">_</span><span style=\"color: #8c1eff; text-decoration-color: #8c1eff; font-weight: bold\"> \\</span><span style=\"color: #800080; text-decoration-color: #800080; font-weight: bold\">/_/</span><span style=\"color: #8c1eff; text-decoration-color: #8c1eff; font-weight: bold\">  </span><span style=\"color: #800080; text-decoration-color: #800080; font-weight: bold\">/</span><span style=\"color: #ff00ff; text-decoration-color: #ff00ff; font-weight: bold\">_</span><span style=\"color: #8c1eff; text-decoration-color: #8c1eff; font-weight: bold\"> </span>\n",
       "<span style=\"color: #8c1eff; text-decoration-color: #8c1eff; font-weight: bold\">   \\ \\_\\   \\ \\_\\  </span><span style=\"color: #800080; text-decoration-color: #800080; font-weight: bold\">/</span><span style=\"color: #8c1eff; text-decoration-color: #8c1eff; font-weight: bold\">\\____\\  </span><span style=\"color: #800080; text-decoration-color: #800080; font-weight: bold\">/</span><span style=\"color: #8c1eff; text-decoration-color: #8c1eff; font-weight: bold\">\\____\\              \\ \\____/ \\ \\____/  </span><span style=\"color: #800080; text-decoration-color: #800080; font-weight: bold\">/</span><span style=\"color: #8c1eff; text-decoration-color: #8c1eff; font-weight: bold\">\\____\\  </span><span style=\"color: #800080; text-decoration-color: #800080; font-weight: bold\">/</span><span style=\"color: #8c1eff; text-decoration-color: #8c1eff; font-weight: bold\">\\____\\</span>\n",
       "<span style=\"color: #8c1eff; text-decoration-color: #8c1eff; font-weight: bold\">    \\</span><span style=\"color: #800080; text-decoration-color: #800080; font-weight: bold\">/_/</span><span style=\"color: #8c1eff; text-decoration-color: #8c1eff; font-weight: bold\">    \\</span><span style=\"color: #800080; text-decoration-color: #800080; font-weight: bold\">/_/</span><span style=\"color: #8c1eff; text-decoration-color: #8c1eff; font-weight: bold\">  \\</span><span style=\"color: #800080; text-decoration-color: #800080; font-weight: bold\">/____/</span><span style=\"color: #8c1eff; text-decoration-color: #8c1eff; font-weight: bold\">  \\</span><span style=\"color: #800080; text-decoration-color: #800080; font-weight: bold\">/____/</span><span style=\"color: #8c1eff; text-decoration-color: #8c1eff; font-weight: bold\">               \\</span><span style=\"color: #800080; text-decoration-color: #800080; font-weight: bold\">/___/</span><span style=\"color: #8c1eff; text-decoration-color: #8c1eff; font-weight: bold\">   \\</span><span style=\"color: #800080; text-decoration-color: #800080; font-weight: bold\">/___/</span><span style=\"color: #8c1eff; text-decoration-color: #8c1eff; font-weight: bold\">   \\</span><span style=\"color: #800080; text-decoration-color: #800080; font-weight: bold\">/____/</span><span style=\"color: #8c1eff; text-decoration-color: #8c1eff; font-weight: bold\">  \\</span><span style=\"color: #800080; text-decoration-color: #800080; font-weight: bold\">/____/</span>\n",
       "<span style=\"color: #8c1eff; text-decoration-color: #8c1eff; font-weight: bold\">                                                                                   </span>\n",
       "<span style=\"color: #8c1eff; text-decoration-color: #8c1eff; font-weight: bold\">                                                                                   </span>\n",
       "\n",
       "</pre>\n"
      ],
      "text/plain": [
       "\u001b[1;38;2;140;30;255m ____                                         ____                                 \u001b[0m\n",
       "\u001b[1;35m/\u001b[0m\u001b[1;38;2;140;30;255m\\  _`\\   __                                 \u001b[0m\u001b[1;35m/\u001b[0m\u001b[1;38;2;140;30;255m\\  _`\\                               \u001b[0m\n",
       "\u001b[1;38;2;140;30;255m\\ \\ \\L\\_\\\u001b[0m\u001b[1;35m/\u001b[0m\u001b[1;38;2;140;30;255m\\_\\    ____     ____               \\ \\ \\L\\ \\   __  __   ____     ____    \u001b[0m\n",
       "\u001b[1;38;2;140;30;255m \\ \\  _\\\u001b[0m\u001b[1;35m/\u001b[0m\u001b[1;38;2;140;30;255m\\\u001b[0m\u001b[1;35m/\u001b[0m\u001b[1;38;2;140;30;255m\\ \\  \u001b[0m\u001b[1;35m/\u001b[0m\u001b[1;38;2;140;30;255m\\_ ,`\\  \u001b[0m\u001b[1;35m/\u001b[0m\u001b[1;38;2;140;30;255m\\_ ,`\\              \\ \\  _ <' \u001b[0m\u001b[1;35m/\u001b[0m\u001b[1;38;2;140;30;255m\\ \\\u001b[0m\u001b[1;35m/\u001b[0m\u001b[1;38;2;140;30;255m\\ \\ \u001b[0m\u001b[1;35m/\u001b[0m\u001b[1;38;2;140;30;255m\\_ ,`\\  \u001b[0m\u001b[1;35m/\u001b[0m\u001b[1;38;2;140;30;255m\\_ ,`\\  \u001b[0m\n",
       "\u001b[1;38;2;140;30;255m  \\ \\ \\\u001b[0m\u001b[1;35m/\u001b[0m\u001b[1;38;2;140;30;255m  \\ \\ \\ \\\u001b[0m\u001b[1;35m/_/\u001b[0m\u001b[1;38;2;140;30;255m  \u001b[0m\u001b[1;35m/\u001b[0m\u001b[1;95m_\u001b[0m\u001b[1;38;2;140;30;255m \\\u001b[0m\u001b[1;35m/_/\u001b[0m\u001b[1;38;2;140;30;255m  \u001b[0m\u001b[1;35m/\u001b[0m\u001b[1;95m_\u001b[0m\u001b[1;38;2;140;30;255m              \\ \\ \\L\\ \\\\ \\ \\_\\ \\\\\u001b[0m\u001b[1;35m/_/\u001b[0m\u001b[1;38;2;140;30;255m  \u001b[0m\u001b[1;35m/\u001b[0m\u001b[1;95m_\u001b[0m\u001b[1;38;2;140;30;255m \\\u001b[0m\u001b[1;35m/_/\u001b[0m\u001b[1;38;2;140;30;255m  \u001b[0m\u001b[1;35m/\u001b[0m\u001b[1;95m_\u001b[0m\u001b[1;38;2;140;30;255m \u001b[0m\n",
       "\u001b[1;38;2;140;30;255m   \\ \\_\\   \\ \\_\\  \u001b[0m\u001b[1;35m/\u001b[0m\u001b[1;38;2;140;30;255m\\____\\  \u001b[0m\u001b[1;35m/\u001b[0m\u001b[1;38;2;140;30;255m\\____\\              \\ \\____/ \\ \\____/  \u001b[0m\u001b[1;35m/\u001b[0m\u001b[1;38;2;140;30;255m\\____\\  \u001b[0m\u001b[1;35m/\u001b[0m\u001b[1;38;2;140;30;255m\\____\\\u001b[0m\n",
       "\u001b[1;38;2;140;30;255m    \\\u001b[0m\u001b[1;35m/_/\u001b[0m\u001b[1;38;2;140;30;255m    \\\u001b[0m\u001b[1;35m/_/\u001b[0m\u001b[1;38;2;140;30;255m  \\\u001b[0m\u001b[1;35m/____/\u001b[0m\u001b[1;38;2;140;30;255m  \\\u001b[0m\u001b[1;35m/____/\u001b[0m\u001b[1;38;2;140;30;255m               \\\u001b[0m\u001b[1;35m/___/\u001b[0m\u001b[1;38;2;140;30;255m   \\\u001b[0m\u001b[1;35m/___/\u001b[0m\u001b[1;38;2;140;30;255m   \\\u001b[0m\u001b[1;35m/____/\u001b[0m\u001b[1;38;2;140;30;255m  \\\u001b[0m\u001b[1;35m/____/\u001b[0m\n",
       "\u001b[1;38;2;140;30;255m                                                                                   \u001b[0m\n",
       "\u001b[1;38;2;140;30;255m                                                                                   \u001b[0m\n",
       "\n"
      ]
     },
     "metadata": {},
     "output_type": "display_data"
    },
    {
     "data": {
      "text/html": [
       "<pre style=\"white-space:pre;overflow-x:auto;line-height:normal;font-family:Menlo,'DejaVu Sans Mono',consolas,'Courier New',monospace\"><span style=\"color: #8c1eff; text-decoration-color: #8c1eff; font-weight: bold\"> ____                                                 __                     </span>\n",
       "<span style=\"color: #800080; text-decoration-color: #800080; font-weight: bold\">/</span><span style=\"color: #8c1eff; text-decoration-color: #8c1eff; font-weight: bold\">\\  _`\\                                              </span><span style=\"color: #800080; text-decoration-color: #800080; font-weight: bold\">/</span><span style=\"color: #8c1eff; text-decoration-color: #8c1eff; font-weight: bold\">\\ \\__                  </span>\n",
       "<span style=\"color: #8c1eff; text-decoration-color: #8c1eff; font-weight: bold\">\\ \\ \\L\\_\\     __     ___       __    _ __     __     \\ \\ ,_\\    ___    _ __  </span>\n",
       "<span style=\"color: #8c1eff; text-decoration-color: #8c1eff; font-weight: bold\"> \\ \\ \\L_L   </span><span style=\"color: #800080; text-decoration-color: #800080; font-weight: bold\">/</span><span style=\"color: #008000; text-decoration-color: #008000\">'__`\\ /'</span><span style=\"color: #8c1eff; text-decoration-color: #8c1eff; font-weight: bold\"> _ `\\   </span><span style=\"color: #800080; text-decoration-color: #800080; font-weight: bold\">/</span><span style=\"color: #008000; text-decoration-color: #008000\">'__`\\ /\\`'</span><span style=\"color: #8c1eff; text-decoration-color: #8c1eff; font-weight: bold\">__\\ </span><span style=\"color: #800080; text-decoration-color: #800080; font-weight: bold\">/</span><span style=\"color: #008000; text-decoration-color: #008000\">'__`\\    \\ \\ \\/   / __`\\ /\\`'</span><span style=\"color: #8c1eff; text-decoration-color: #8c1eff; font-weight: bold\">__\\</span>\n",
       "<span style=\"color: #8c1eff; text-decoration-color: #8c1eff; font-weight: bold\">  \\ \\ \\</span><span style=\"color: #800080; text-decoration-color: #800080; font-weight: bold\">/</span><span style=\"color: #8c1eff; text-decoration-color: #8c1eff; font-weight: bold\">, \\</span><span style=\"color: #800080; text-decoration-color: #800080; font-weight: bold\">/</span><span style=\"color: #8c1eff; text-decoration-color: #8c1eff; font-weight: bold\">\\  __/ </span><span style=\"color: #800080; text-decoration-color: #800080; font-weight: bold\">/</span><span style=\"color: #8c1eff; text-decoration-color: #8c1eff; font-weight: bold\">\\ \\</span><span style=\"color: #800080; text-decoration-color: #800080; font-weight: bold\">/</span><span style=\"color: #8c1eff; text-decoration-color: #8c1eff; font-weight: bold\">\\ \\ </span><span style=\"color: #800080; text-decoration-color: #800080; font-weight: bold\">/</span><span style=\"color: #8c1eff; text-decoration-color: #8c1eff; font-weight: bold\">\\  __/ \\ \\ \\</span><span style=\"color: #800080; text-decoration-color: #800080; font-weight: bold\">/</span><span style=\"color: #8c1eff; text-decoration-color: #8c1eff; font-weight: bold\"> </span><span style=\"color: #800080; text-decoration-color: #800080; font-weight: bold\">/</span><span style=\"color: #8c1eff; text-decoration-color: #8c1eff; font-weight: bold\">\\ \\L\\.\\_   \\ \\ \\_ </span><span style=\"color: #800080; text-decoration-color: #800080; font-weight: bold\">/</span><span style=\"color: #8c1eff; text-decoration-color: #8c1eff; font-weight: bold\">\\ \\L\\ \\\\ \\ \\</span><span style=\"color: #800080; text-decoration-color: #800080; font-weight: bold\">/</span><span style=\"color: #8c1eff; text-decoration-color: #8c1eff; font-weight: bold\"> </span>\n",
       "<span style=\"color: #8c1eff; text-decoration-color: #8c1eff; font-weight: bold\">   \\ \\____/\\ \\____\\\\ \\_\\ \\_\\\\ \\____\\ \\ \\_\\ \\ \\__/.\\_\\   \\ \\__\\\\ \\____/ \\ \\_\\ </span>\n",
       "<span style=\"color: #8c1eff; text-decoration-color: #8c1eff; font-weight: bold\">    \\</span><span style=\"color: #800080; text-decoration-color: #800080; font-weight: bold\">/___/</span><span style=\"color: #8c1eff; text-decoration-color: #8c1eff; font-weight: bold\">  \\</span><span style=\"color: #800080; text-decoration-color: #800080; font-weight: bold\">/____/</span><span style=\"color: #8c1eff; text-decoration-color: #8c1eff; font-weight: bold\"> \\</span><span style=\"color: #800080; text-decoration-color: #800080; font-weight: bold\">/_/</span><span style=\"color: #8c1eff; text-decoration-color: #8c1eff; font-weight: bold\">\\</span><span style=\"color: #800080; text-decoration-color: #800080; font-weight: bold\">/_/</span><span style=\"color: #8c1eff; text-decoration-color: #8c1eff; font-weight: bold\"> \\</span><span style=\"color: #800080; text-decoration-color: #800080; font-weight: bold\">/____/</span><span style=\"color: #8c1eff; text-decoration-color: #8c1eff; font-weight: bold\">  \\</span><span style=\"color: #800080; text-decoration-color: #800080; font-weight: bold\">/_/</span><span style=\"color: #8c1eff; text-decoration-color: #8c1eff; font-weight: bold\">  \\</span><span style=\"color: #800080; text-decoration-color: #800080; font-weight: bold\">/__/</span><span style=\"color: #8c1eff; text-decoration-color: #8c1eff; font-weight: bold\">\\</span><span style=\"color: #800080; text-decoration-color: #800080; font-weight: bold\">/_/</span><span style=\"color: #8c1eff; text-decoration-color: #8c1eff; font-weight: bold\">    \\</span><span style=\"color: #800080; text-decoration-color: #800080; font-weight: bold\">/__/</span><span style=\"color: #8c1eff; text-decoration-color: #8c1eff; font-weight: bold\"> \\</span><span style=\"color: #800080; text-decoration-color: #800080; font-weight: bold\">/___/</span><span style=\"color: #8c1eff; text-decoration-color: #8c1eff; font-weight: bold\">   \\</span><span style=\"color: #800080; text-decoration-color: #800080; font-weight: bold\">/_/</span><span style=\"color: #8c1eff; text-decoration-color: #8c1eff; font-weight: bold\"> </span>\n",
       "<span style=\"color: #8c1eff; text-decoration-color: #8c1eff; font-weight: bold\">                                                                             </span>\n",
       "<span style=\"color: #8c1eff; text-decoration-color: #8c1eff; font-weight: bold\">                                                                             </span>\n",
       "\n",
       "</pre>\n"
      ],
      "text/plain": [
       "\u001b[1;38;2;140;30;255m ____                                                 __                     \u001b[0m\n",
       "\u001b[1;35m/\u001b[0m\u001b[1;38;2;140;30;255m\\  _`\\                                              \u001b[0m\u001b[1;35m/\u001b[0m\u001b[1;38;2;140;30;255m\\ \\__                  \u001b[0m\n",
       "\u001b[1;38;2;140;30;255m\\ \\ \\L\\_\\     __     ___       __    _ __     __     \\ \\ ,_\\    ___    _ __  \u001b[0m\n",
       "\u001b[1;38;2;140;30;255m \\ \\ \\L_L   \u001b[0m\u001b[1;35m/\u001b[0m\u001b[32m'__`\\ /'\u001b[0m\u001b[1;38;2;140;30;255m _ `\\   \u001b[0m\u001b[1;35m/\u001b[0m\u001b[32m'__`\\ /\\`'\u001b[0m\u001b[1;38;2;140;30;255m__\\ \u001b[0m\u001b[1;35m/\u001b[0m\u001b[32m'__`\\    \\ \\ \\/   / __`\\ /\\`'\u001b[0m\u001b[1;38;2;140;30;255m__\\\u001b[0m\n",
       "\u001b[1;38;2;140;30;255m  \\ \\ \\\u001b[0m\u001b[1;35m/\u001b[0m\u001b[1;38;2;140;30;255m, \\\u001b[0m\u001b[1;35m/\u001b[0m\u001b[1;38;2;140;30;255m\\  __/ \u001b[0m\u001b[1;35m/\u001b[0m\u001b[1;38;2;140;30;255m\\ \\\u001b[0m\u001b[1;35m/\u001b[0m\u001b[1;38;2;140;30;255m\\ \\ \u001b[0m\u001b[1;35m/\u001b[0m\u001b[1;38;2;140;30;255m\\  __/ \\ \\ \\\u001b[0m\u001b[1;35m/\u001b[0m\u001b[1;38;2;140;30;255m \u001b[0m\u001b[1;35m/\u001b[0m\u001b[1;38;2;140;30;255m\\ \\L\\.\\_   \\ \\ \\_ \u001b[0m\u001b[1;35m/\u001b[0m\u001b[1;38;2;140;30;255m\\ \\L\\ \\\\ \\ \\\u001b[0m\u001b[1;35m/\u001b[0m\u001b[1;38;2;140;30;255m \u001b[0m\n",
       "\u001b[1;38;2;140;30;255m   \\ \\____/\\ \\____\\\\ \\_\\ \\_\\\\ \\____\\ \\ \\_\\ \\ \\__/.\\_\\   \\ \\__\\\\ \\____/ \\ \\_\\ \u001b[0m\n",
       "\u001b[1;38;2;140;30;255m    \\\u001b[0m\u001b[1;35m/___/\u001b[0m\u001b[1;38;2;140;30;255m  \\\u001b[0m\u001b[1;35m/____/\u001b[0m\u001b[1;38;2;140;30;255m \\\u001b[0m\u001b[1;35m/_/\u001b[0m\u001b[1;38;2;140;30;255m\\\u001b[0m\u001b[1;35m/_/\u001b[0m\u001b[1;38;2;140;30;255m \\\u001b[0m\u001b[1;35m/____/\u001b[0m\u001b[1;38;2;140;30;255m  \\\u001b[0m\u001b[1;35m/_/\u001b[0m\u001b[1;38;2;140;30;255m  \\\u001b[0m\u001b[1;35m/__/\u001b[0m\u001b[1;38;2;140;30;255m\\\u001b[0m\u001b[1;35m/_/\u001b[0m\u001b[1;38;2;140;30;255m    \\\u001b[0m\u001b[1;35m/__/\u001b[0m\u001b[1;38;2;140;30;255m \\\u001b[0m\u001b[1;35m/___/\u001b[0m\u001b[1;38;2;140;30;255m   \\\u001b[0m\u001b[1;35m/_/\u001b[0m\u001b[1;38;2;140;30;255m \u001b[0m\n",
       "\u001b[1;38;2;140;30;255m                                                                             \u001b[0m\n",
       "\u001b[1;38;2;140;30;255m                                                                             \u001b[0m\n",
       "\n"
      ]
     },
     "metadata": {},
     "output_type": "display_data"
    },
    {
     "data": {
      "text/html": [
       "<pre style=\"white-space:pre;overflow-x:auto;line-height:normal;font-family:Menlo,'DejaVu Sans Mono',consolas,'Courier New',monospace\"></pre>\n"
      ],
      "text/plain": []
     },
     "metadata": {},
     "output_type": "display_data"
    }
   ],
   "source": [
    "from art import text2art\n",
    "from rich.console import Console\n",
    "from rich.prompt import Prompt\n",
    "from rich.theme import Theme\n",
    "from rich.markdown import Markdown\n",
    "\n",
    "TITLE = \"\"\"\n",
    "# Welcome to\n",
    "# the Fizz Buzz Generator\n",
    "\n",
    "\"\"\"\n",
    "colors = {\n",
    "    \"yellow\": \"#ffd319\",\n",
    "    \"orange\": \"#ff901f\",\n",
    "    \"red\": \"#ff2975\",\n",
    "    \"purple\": \"#f222ff\",\n",
    "    \"blue\": \"#8c1eff\"\n",
    "}\n",
    "custom_theme = Theme({\n",
    "    \"number\": f\"bold {colors['purple']}\",\n",
    "    \"Fizz\": f\"bold {colors['red']}\",\n",
    "    \"Buzz\": f\"bold {colors['orange']}\",\n",
    "    \"FizzBuzz\": f\"bold {colors['yellow']}\",\n",
    "    \"normal\": f\"bold {colors['blue']}\",\n",
    "\n",
    "})\n",
    "console = Console(theme=custom_theme)\n",
    "TITLE_FONT = \"standard\"\n",
    "console.print(text2art(text=\"Welcome  to  the\",\n",
    "              font=TITLE_FONT), style=\"normal\")\n",
    "console.print(text2art(text=\"Fizz  Buzz\", font=TITLE_FONT), style=\"FizzBuzz\")\n",
    "console.print(text2art(text=\"Generator\", font=TITLE_FONT), style=\"normal\")\n",
    "\n",
    "\n",
    "number = \"not a number\"\n",
    "while True:\n",
    "    number = Prompt.ask(\n",
    "        \"Enter a number to generate a Fizz Buzz:\", default=\"100\")\n",
    "    if number.isdigit():\n",
    "        break\n",
    "    else:\n",
    "        console.print(\"That's not a number\", style=f\"bold {colors['red']}\")\n"
   ]
  },
  {
   "cell_type": "code",
   "execution_count": 32,
   "metadata": {},
   "outputs": [],
   "source": [
    "def print_fizz_buzz(text_to_print:str):\n",
    "    font={\n",
    "        \"Fizz\":\"clr7x8\",\n",
    "        \"Buzz\":\"clr7x8\",\n",
    "        \"FizzBuzz\":\"coil_cop\",\n",
    "        \"number\":\"clr6x6\",\n",
    "        }\n",
    "    if text_to_print==\"FizzBuzz\":\n",
    "        console.print(text2art(text=text_to_print,font=font[text_to_print]), style=text_to_print)\n",
    "        return\n",
    "    elif text_to_print==\"Fizz\":\n",
    "        console.print(text2art(text=text_to_print,font=font[text_to_print]), style=text_to_print)\n",
    "        return\n",
    "    elif text_to_print==\"Buzz\":\n",
    "        console.print(text2art(text=text_to_print,font=font[text_to_print]), style=text_to_print)\n",
    "        return\n",
    "    else:\n",
    "        console.print(text2art(text=text_to_print,font=font[\"number\"]), style=\"number\")\n",
    "        return\n",
    "\n",
    "def fizzBuzz(num:int):\n",
    "    \n",
    "    if num%3==0 and num%5==0:\n",
    "        return \"FizzBuzz\"\n",
    "    if num%3==0:\n",
    "        return \"Fizz\"\n",
    "    if num%5==0:\n",
    "        return \"Buzz\"\n",
    "    return str(num)\n"
   ]
  },
  {
   "cell_type": "code",
   "execution_count": 37,
   "metadata": {},
   "outputs": [
    {
     "data": {
      "text/html": [
       "<pre style=\"white-space:pre;overflow-x:auto;line-height:normal;font-family:Menlo,'DejaVu Sans Mono',consolas,'Courier New',monospace\"><span style=\"color: #f222ff; text-decoration-color: #f222ff; font-weight: bold\">   #   </span>\n",
       "<span style=\"color: #f222ff; text-decoration-color: #f222ff; font-weight: bold\">  ##   </span>\n",
       "<span style=\"color: #f222ff; text-decoration-color: #f222ff; font-weight: bold\">   #   </span>\n",
       "<span style=\"color: #f222ff; text-decoration-color: #f222ff; font-weight: bold\">   #   </span>\n",
       "<span style=\"color: #f222ff; text-decoration-color: #f222ff; font-weight: bold\">   #   </span>\n",
       "<span style=\"color: #f222ff; text-decoration-color: #f222ff; font-weight: bold\">       </span>\n",
       "\n",
       "</pre>\n"
      ],
      "text/plain": [
       "\u001b[1;38;2;242;34;255m   #   \u001b[0m\n",
       "\u001b[1;38;2;242;34;255m  ##   \u001b[0m\n",
       "\u001b[1;38;2;242;34;255m   #   \u001b[0m\n",
       "\u001b[1;38;2;242;34;255m   #   \u001b[0m\n",
       "\u001b[1;38;2;242;34;255m   #   \u001b[0m\n",
       "\u001b[1;38;2;242;34;255m       \u001b[0m\n",
       "\n"
      ]
     },
     "metadata": {},
     "output_type": "display_data"
    }
   ],
   "source": [
    "print_fizz_buzz(fizzBuzz(1))"
   ]
  }
 ],
 "metadata": {
  "language_info": {
   "name": "python"
  },
  "orig_nbformat": 4
 },
 "nbformat": 4,
 "nbformat_minor": 2
}
